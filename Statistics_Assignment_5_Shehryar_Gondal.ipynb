{
 "cells": [
  {
   "cell_type": "markdown",
   "id": "87832be0",
   "metadata": {},
   "source": [
    "## Assignments Questions"
   ]
  },
  {
   "cell_type": "markdown",
   "id": "f6ce9add",
   "metadata": {},
   "source": [
    "__Q1: What is Estimation Statistics? Explain point estimate and interval estimate ?__\n",
    "\n",
    "__Ans)__ Estimation statistics is a branch of statistics that deals with estimating population parameters based on a sample of data. It involves using sample statistics to make inferences about population parameters. In estimation statistics, there are two main types of estimates: point estimates and interval estimates.\n",
    "\n",
    "A point estimate is a single value that is used to estimate the value of a population parameter. For example, the sample mean is a point estimate of the population mean, and the sample proportion is a point estimate of the population proportion. Point estimates are useful because they provide a quick and simple way to estimate population parameters. However, they have some limitations. Point estimates do not provide any information about the accuracy of the estimate, and they may be biased or unreliable if the sample is not representative of the population.\n",
    "\n",
    "Interval estimates, on the other hand, provide a range of values within which the true population parameter is expected to lie. An interval estimate is based on a point estimate and a margin of error. For example, a 95% confidence interval for the population mean is a range of values within which we can be 95% confident that the true population mean lies. Interval estimates are more informative than point estimates because they provide information about the precision and accuracy of the estimate. However, interval estimates are more complex to calculate than point estimates.\n",
    "\n",
    "__In summary, estimation statistics is a branch of statistics that deals with estimating population parameters based on a sample of data. Point estimates are single values that are used to estimate population parameters, while interval estimates provide a range of values within which the true population parameter is expected to lie.__"
   ]
  },
  {
   "cell_type": "markdown",
   "id": "50f8b8ad",
   "metadata": {},
   "source": [
    "__Q2. Write a Python function to estimate the population mean using a sample mean and standard\n",
    "deviation.?__"
   ]
  },
  {
   "cell_type": "code",
   "execution_count": 3,
   "id": "0c63bd7c",
   "metadata": {},
   "outputs": [
    {
     "name": "stdout",
     "output_type": "stream",
     "text": [
      "(45, (44.608, 45.392))\n"
     ]
    }
   ],
   "source": [
    "def estimate_population_mean(sample_mean, sample_std, sample_size):\n",
    "    \"\"\"\n",
    "    This function estimates the population mean using a sample mean and standard deviation.\n",
    "    \"\"\"\n",
    "    import math\n",
    "    \n",
    "    # Calculate the standard error of the mean\n",
    "    standard_error = sample_std / math.sqrt(sample_size)\n",
    "    \n",
    "    # Calculate the margin of error\n",
    "    margin_of_error = 1.96 * standard_error  # 1.96 is the z-score for a 95% confidence interval\n",
    "    \n",
    "    # Calculate the lower and upper bounds of the confidence interval\n",
    "    lower_bound = sample_mean - margin_of_error\n",
    "    upper_bound = sample_mean + margin_of_error\n",
    "    \n",
    "    # Return the estimated population mean and the confidence interval\n",
    "    return sample_mean, (lower_bound, upper_bound)\n",
    "\n",
    "\n",
    "print(estimate_population_mean(45,2,100))"
   ]
  },
  {
   "cell_type": "markdown",
   "id": "4b079e43",
   "metadata": {},
   "source": [
    "__Q3: What is Hypothesis testing? Why is it used? State the importance of Hypothesis testing.?__\n",
    "\n",
    "__Ans)__ Hypothesis testing is a statistical method used to determine whether a specific hypothesis about a population is likely true or not based on sample data. In other words, it's a way of making inferences about a larger group or population based on a smaller sample.\n",
    "\n",
    "Hypothesis testing is used to test theories or assumptions about a population, and it involves formulating a null hypothesis and an alternative hypothesis. The null hypothesis is a statement that assumes no difference or relationship between variables, while the alternative hypothesis is the opposite of the null hypothesis.\n",
    "\n",
    "The process of hypothesis testing involves collecting data from a sample and calculating a test statistic. The test statistic is then compared to a critical value or a p-value to determine whether the null hypothesis should be rejected or not. If the test statistic is greater than the critical value or if the p-value is less than the chosen significance level, then the null hypothesis is rejected, and the alternative hypothesis is accepted.\n",
    "\n",
    "The importance of hypothesis testing lies in its ability to help researchers make data-driven decisions and draw conclusions about populations. Hypothesis testing allows researchers to test the validity of a hypothesis and determine whether the results are significant or due to chance. It also helps researchers to determine the confidence level of their results and the statistical significance of their findings."
   ]
  },
  {
   "cell_type": "markdown",
   "id": "9ee6e063",
   "metadata": {},
   "source": [
    "__Q4. Create a hypothesis that states whether the average weight of male college students is greater than\n",
    "the average weight of female college students?__\n",
    "\n",
    "__Ans)__ The hypothesis for this statement would be:\n",
    "\n",
    "* __Null Hypothesis (H0):__ The average weight of male college students is equal to or less than the average weight of female college students.\n",
    "\n",
    "* __Alternative Hypothesis (Ha):__ The average weight of male college students is greater than the average weight of female college students.\n",
    "\n",
    "Symbolically, this can be written as:\n",
    "\n",
    "H0: μm ≤ μf\n",
    "Ha: μm > μf\n",
    "\n",
    "Where:\n",
    "μm is the population mean weight of male college students\n",
    "μf is the population mean weight of female college students.\n",
    "\n",
    "The hypothesis testing can be conducted using a suitable statistical test and a significance level to determine whether to reject or fail to reject the null hypothesis based on the sample data."
   ]
  },
  {
   "cell_type": "markdown",
   "id": "900095b1",
   "metadata": {},
   "source": [
    "__Q5. Write a Python script to conduct a hypothesis test on the difference between two population means,\n",
    "given a sample from each population.?__"
   ]
  },
  {
   "cell_type": "code",
   "execution_count": 4,
   "id": "a98f9158",
   "metadata": {},
   "outputs": [
    {
     "name": "stdout",
     "output_type": "stream",
     "text": [
      "Reject null hypothesis. There is significant evidence to suggest that the mean of population 1 is different from the mean of population 2.\n"
     ]
    }
   ],
   "source": [
    "import numpy as np\n",
    "from scipy.stats import ttest_ind\n",
    "\n",
    "# generate sample data for two populations\n",
    "pop1 = np.random.normal(10, 2, 100)\n",
    "pop2 = np.random.normal(12, 2, 100)\n",
    "\n",
    "# calculate sample means\n",
    "mean1 = np.mean(pop1)\n",
    "mean2 = np.mean(pop2)\n",
    "\n",
    "# calculate sample standard deviations\n",
    "std1 = np.std(pop1, ddof=1)\n",
    "std2 = np.std(pop2, ddof=1)\n",
    "\n",
    "# calculate degrees of freedom\n",
    "df = len(pop1) + len(pop2) - 2\n",
    "\n",
    "# calculate pooled standard deviation\n",
    "s_pool = np.sqrt(((len(pop1)-1)*(std1**2) + (len(pop2)-1)*(std2**2)) / df)\n",
    "\n",
    "# calculate t-test statistic\n",
    "t_stat = (mean1 - mean2) / (s_pool * np.sqrt(1/len(pop1) + 1/len(pop2)))\n",
    "\n",
    "# calculate p-value\n",
    "p_val = ttest_ind(pop1, pop2)[1]\n",
    "\n",
    "# set significance level\n",
    "alpha = 0.05\n",
    "\n",
    "# conduct hypothesis test\n",
    "if p_val < alpha:\n",
    "    print(\"Reject null hypothesis. There is significant evidence to suggest that the mean of population 1 is different from the mean of population 2.\")\n",
    "else:\n",
    "    print(\"Fail to reject null hypothesis. There is not enough evidence to suggest that the mean of population 1 is different from the mean of population 2.\")"
   ]
  },
  {
   "cell_type": "markdown",
   "id": "920c00f1",
   "metadata": {},
   "source": [
    "__Q6: What is a null and alternative hypothesis? Give some examples ?__\n",
    "\n",
    "__Ans)__ In statistics, the null hypothesis and alternative hypothesis are two opposing statements used to test a hypothesis about a population.\n",
    "\n",
    "The null hypothesis (H0) is a statement that assumes there is no significant difference between two groups or variables. It is often represented as a statement of equality, such as \"there is no difference,\" \"there is no effect,\" or \"the mean is equal to a specific value.\" The null hypothesis is usually the default assumption until evidence is found to the contrary.\n",
    "\n",
    "On the other hand, the alternative hypothesis (H1 or Ha) is a statement that contradicts the null hypothesis. It is often represented as a statement of inequality, such as \"there is a difference,\" \"there is an effect,\" or \"the mean is not equal to a specific value.\" The alternative hypothesis is what we want to prove or reject by testing the null hypothesis.\n",
    "\n",
    "\n",
    "* __Null hypothesis:__ There is no difference in the mean weight of apples from two different orchards.\n",
    "\n",
    "* __Alternative hypothesis:__ There is a significant difference in the mean weight of apples from two different orchards."
   ]
  },
  {
   "cell_type": "markdown",
   "id": "a872b5cb",
   "metadata": {},
   "source": [
    "__Q7: Write down the steps involved in hypothesis testing.?__\n",
    "\n",
    "__Ans)__ The number of steps involved in hypothesis testing are :\n",
    "\n",
    "* Null Hypothesis\n",
    "\n",
    "* Alternative Hypothesis\n",
    "\n",
    "* Experiment (Performing statistiscal analysis).\n",
    "\n",
    "* Conclusion ( Whether to accept null hypothesis or reject null hypothesis)"
   ]
  },
  {
   "cell_type": "markdown",
   "id": "829bfc6b",
   "metadata": {},
   "source": [
    "__Q8. Define p-value and explain its significance in hypothesis testing.?__\n",
    "\n",
    "__Ans)__ In statistical hypothesis testing, the p-value is the probability of obtaining results as extreme or more extreme than the observed results, under the assumption that the null hypothesis is true.\n",
    "\n",
    "The null hypothesis is a statement that assumes there is no significant difference between the population being studied and a sample from that population. The alternative hypothesis is a statement that assumes there is a significant difference between the population being studied and a sample from that population.\n",
    "\n",
    "The significance of the p-value in hypothesis testing is that it tells us how likely it is that the observed results occurred by chance alone, given the null hypothesis. If the p-value is low (usually below 0.05), then we reject the null hypothesis and accept the alternative hypothesis, as we conclude that the observed results are unlikely to have occurred by chance alone.\n",
    "\n",
    "On the other hand, if the p-value is high (usually above 0.05), then we fail to reject the null hypothesis, as we conclude that the observed results are likely to have occurred by chance alone.\n",
    "\n",
    "In summary, the p-value is a critical element in hypothesis testing as it helps us determine whether our observed results are statistically significant or not."
   ]
  },
  {
   "cell_type": "markdown",
   "id": "acb90450",
   "metadata": {},
   "source": [
    "__Q9. Generate a Student's t-distribution plot using Python's matplotlib library, with the degrees of freedom\n",
    "parameter set to 10.?__"
   ]
  },
  {
   "cell_type": "code",
   "execution_count": 5,
   "id": "2b7601b2",
   "metadata": {},
   "outputs": [
    {
     "data": {
      "image/png": "[encoded data removed]",
      "text/plain": [
       "<Figure size 432x288 with 1 Axes>"
      ]
     },
     "metadata": {
      "needs_background": "light"
     },
     "output_type": "display_data"
    }
   ],
   "source": [
    "import numpy as np\n",
    "import matplotlib.pyplot as plt\n",
    "from scipy.stats import t\n",
    "\n",
    "df = 10  # Degrees of freedom\n",
    "x = np.linspace(-4, 4, 1000)  # Set range of x values\n",
    "\n",
    "# Calculate the Student's t-distribution using the pdf method\n",
    "t_dist = t.pdf(x, df)\n",
    "\n",
    "# Plot the distribution\n",
    "plt.plot(x, t_dist, label=f\"t-distribution with {df} degrees of freedom\")\n",
    "plt.legend()\n",
    "plt.title(\"Student's t-distribution\")\n",
    "plt.xlabel('x')\n",
    "plt.ylabel('PDF')\n",
    "plt.show()"
   ]
  },
  {
   "cell_type": "markdown",
   "id": "4192145c",
   "metadata": {},
   "source": [
    "__Q10. Write a Python program to calculate the two-sample t-test for independent samples, given two\n",
    "random samples of equal size and a null hypothesis that the population means are equal.__"
   ]
  },
  {
   "cell_type": "code",
   "execution_count": null,
   "id": "bf820ba4",
   "metadata": {},
   "outputs": [],
   "source": [
    "import numpy as np\n",
    "from scipy.stats import ttest_ind\n",
    "\n",
    "# Generate two random samples of equal size\n",
    "sample1 = np.random.normal(loc=10, scale=2, size=100)\n",
    "sample2 = np.random.normal(loc=12, scale=2, size=100)\n",
    "\n",
    "# Define null hypothesis that the population means are equal\n",
    "null_hypothesis = \"The population means of sample1 and sample2 are equal\"\n",
    "\n",
    "# Calculate the two-sample t-test using scipy.stats.ttest_ind\n",
    "t_statistic, p_value = ttest_ind(sample1, sample2)\n",
    "\n",
    "# Print the results\n",
    "print(\"Null Hypothesis:\", null_hypothesis)\n",
    "print(\"t-statistic:\", t_statistic)\n",
    "print(\"p-value:\", p_value)"
   ]
  },
  {
   "cell_type": "markdown",
   "id": "ce9df1e2",
   "metadata": {},
   "source": [
    "__Q11: What is Student’s t distribution? When to use the t-Distribution.?__\n",
    "\n",
    "__Ans)__ Student's t-distribution is a probability distribution that arises when estimating the mean of a normally distributed population in situations where the sample size is small (less than 30) and/or the population standard deviation is unknown.\n",
    "\n",
    "The t-distribution is similar in shape to the standard normal distribution but has heavier tails, which means that it has more probability in the tails than the normal distribution. This extra probability in the tails accounts for the added uncertainty when estimating the population mean with a small sample size.\n",
    "\n",
    "The t-distribution is typically used in hypothesis testing when the sample size is small or the population standard deviation is unknown. It is used to calculate confidence intervals and conduct hypothesis tests for the population mean when the sample size is small.\n",
    "\n",
    "The t-distribution is also used in various statistical models such as linear regression, where it is used to test the significance of the regression coefficients and to calculate prediction intervals for new observations.\n",
    "\n",
    "Overall, the t-distribution is a crucial tool in statistical inference and is widely used in various fields such as finance, engineering, and social sciences."
   ]
  },
  {
   "cell_type": "markdown",
   "id": "d72ca763",
   "metadata": {},
   "source": [
    "__Q12: What is t-statistic? State the formula for t-statistic ?__\n",
    "\n",
    "__Ans)__ The t-statistic is a measure of the difference between the sample mean and the hypothesized population mean in units of the standard error of the sample mean. It is commonly used in hypothesis testing to determine whether the difference between the sample mean and the hypothesized population mean is statistically significant.\n",
    "\n",
    "The formula for the t-statistic is:\n",
    "\n",
    "t = (x̄ - μ) / (s / √n)\n",
    "\n",
    "where:\n",
    "\n",
    "x̄ is the sample mean\n",
    "μ is the hypothesized population mean (usually the null hypothesis)\n",
    "s is the sample standard deviation\n",
    "n is the sample size\n",
    "The t-statistic measures how many standard errors the sample mean is away from the hypothesized population mean. A t-statistic greater than 2 or less than -2 is generally considered statistically significant at the 95% confidence level.\n",
    "\n",
    "__The t-statistic follows a t-distribution with n-1 degrees of freedom, where n is the sample size. The t-distribution is used to calculate the p-value, which is the probability of observing a t-statistic as extreme or more extreme than the one calculated, assuming that the null hypothesis is true. If the p-value is less than the significance level, we reject the null hypothesis in favor of the alternative hypothesis.__"
   ]
  },
  {
   "cell_type": "markdown",
   "id": "e5751ae9",
   "metadata": {},
   "source": [
    "__Q13. A coffee shop owner wants to estimate the average daily revenue for their shop. They take a random\n",
    "sample of 50 days and find the sample mean revenue to be $500 with a standard deviation of $50.\n",
    "Estimate the population mean revenue with a 95% confidence interval.?__"
   ]
  },
  {
   "cell_type": "markdown",
   "id": "47436ee5",
   "metadata": {},
   "source": [
    "![image](Q4.jpeg)"
   ]
  },
  {
   "cell_type": "markdown",
   "id": "6a7d31b1",
   "metadata": {},
   "source": [
    "__Q14. A researcher hypothesizes that a new drug will decrease blood pressure by 10 mmHg. They conduct a\n",
    "clinical trial with 100 patients and find that the sample mean decrease in blood pressure is 8 mmHg with a\n",
    "standard deviation of 3 mmHg. Test the hypothesis with a significance level of 0.05.__"
   ]
  },
  {
   "cell_type": "markdown",
   "id": "f9e42ef8",
   "metadata": {},
   "source": [
    "To test the hypothesis that the new drug decreases blood pressure by 10 mmHg with a significance level of 0.05, we need to perform a one-sample t-test. The null and alternative hypotheses are:\n",
    "\n",
    "Null hypothesis (H0): The new drug does not decrease blood pressure by 10 mmHg. μ = 10.\n",
    "Alternative hypothesis (Ha): The new drug decreases blood pressure by 10 mmHg. μ < 10.\n",
    "We can use the following formula to calculate the t-statistic:\n",
    "\n",
    "t = (x̄ - μ) / (s / √n)\n",
    "\n",
    "where:\n",
    "\n",
    "x̄ is the sample mean decrease in blood pressure = 8 mmHg\n",
    "μ is the hypothesized population mean decrease in blood pressure = 10 mmHg\n",
    "s is the sample standard deviation = 3 mmHg\n",
    "n is the sample size = 100\n",
    "Substituting the values, we get:\n",
    "\n",
    "t = (8 - 10) / (3 / √100) = -2.82\n",
    "\n",
    "The degrees of freedom for this test is n-1 = 99.\n",
    "\n",
    "__Using a t-distribution table or statistical software, we can find the p-value associated with a t-statistic of -2.82 and 99 degrees of freedom. The p-value is approximately 0.005. Since the p-value (0.005) is less than the significance level (0.05), we reject the null hypothesis in favor of the alternative hypothesis. This means that we can conclude that the new drug decreases blood pressure by 10 mmHg with a significance level of 0.05.__\n",
    "\n",
    "__In other words, we have evidence to support the researcher's hypothesis that the new drug will decrease blood pressure by 10 mmHg.__"
   ]
  },
  {
   "cell_type": "markdown",
   "id": "c8aa77a6",
   "metadata": {},
   "source": [
    "__Q15. An electronics company produces a certain type of product with a mean weight of 5 pounds and a\n",
    "standard deviation of 0.5 pounds. A random sample of 25 products is taken, and the sample mean weight\n",
    "is found to be 4.8 pounds. Test the hypothesis that the true mean weight of the products is less than 5\n",
    "pounds with a significance level of 0.01.__"
   ]
  },
  {
   "cell_type": "markdown",
   "id": "21cc8a42",
   "metadata": {},
   "source": [
    "To test the hypothesis that the true mean weight of the products is less than 5 pounds with a significance level of 0.01, we can use a one-sample t-test. The null and alternative hypotheses are:\n",
    "\n",
    "Null hypothesis (H0): The true mean weight of the products is 5 pounds. μ = 5.\n",
    "Alternative hypothesis (Ha): The true mean weight of the products is less than 5 pounds. μ < 5.\n",
    "We can use the following formula to calculate the t-statistic:\n",
    "\n",
    "t = (x̄ - μ) / (s / √n)\n",
    "\n",
    "where:\n",
    "\n",
    "x̄ is the sample mean weight = 4.8\n",
    "μ is the hypothesized population mean weight = 5\n",
    "s is the sample standard deviation, which is estimated using the sample data = 0.5 / sqrt(25) = 0.1\n",
    "n is the sample size = 25\n",
    "Substituting the values, we get:\n",
    "\n",
    "t = (4.8 - 5) / (0.1) = -2\n",
    "\n",
    "The degrees of freedom for this test is (n - 1) = 24.\n",
    "\n",
    "__Using a t-distribution table or statistical software, we can find the one-tailed p-value associated with a t-statistic of -2 and 24 degrees of freedom. The p-value is approximately 0.027. Since the p-value (0.027) is less than the significance level (0.01), we reject the null hypothesis in favor of the alternative hypothesis. This means that we can conclude that the true mean weight of the products is less than 5 pounds with a significance level of 0.01.__\n",
    "\n",
    "__In other words, we have evidence to support the hypothesis that the average weight of the products produced by the electronics company is less than 5 pounds.__"
   ]
  },
  {
   "cell_type": "markdown",
   "id": "5a9bfb57",
   "metadata": {},
   "source": [
    "__Q16. Two groups of students are given different study materials to prepare for a test. The first group (n1 =\n",
    "30) has a mean score of 80 with a standard deviation of 10, and the second group (n2 = 40) has a mean\n",
    "score of 75 with a standard deviation of 8. Test the hypothesis that the population means for the two\n",
    "groups are equal with a significance level of 0.01.__"
   ]
  },
  {
   "cell_type": "markdown",
   "id": "789b0fba",
   "metadata": {},
   "source": [
    "To test the hypothesis that the population means for the two groups are equal with a significance level of 0.01, we can use a two-sample t-test for independent samples. The null and alternative hypotheses are:\n",
    "\n",
    "Null hypothesis (H0): The population means for the two groups are equal. μ1 = μ2.\n",
    "Alternative hypothesis (Ha): The population means for the two groups are not equal. μ1 ≠ μ2.\n",
    "We can use the following formula to calculate the t-statistic:\n",
    "\n",
    "t = (x̄1 - x̄2) / (s_p * √((1/n1) + (1/n2)))\n",
    "\n",
    "where:\n",
    "\n",
    "x̄1 is the sample mean score of the first group = 80\n",
    "x̄2 is the sample mean score of the second group = 75\n",
    "s_p is the pooled standard deviation, which is a weighted average of the two sample standard deviations = sqrt(((n1-1)*s1^2 + (n2-1)*s2^2) / (n1 + n2 - 2)), where s1 and s2 are the sample standard deviations of the first and second groups, respectively.\n",
    "n1 is the sample size of the first group = 30\n",
    "n2 is the sample size of the second group = 40\n",
    "Substituting the values, we get:\n",
    "\n",
    "s1 = 10\n",
    "s2 = 8\n",
    "s_p = sqrt(((30-1)*10^2 + (40-1)*8^2) / (30 + 40 - 2)) = 9.13\n",
    "\n",
    "t = (80 - 75) / (9.13 * √((1/30) + (1/40))) = 2.57\n",
    "\n",
    "The degrees of freedom for this test is (n1 + n2 - 2) = 68.\n",
    "\n",
    "__Using a t-distribution table or statistical software, we can find the two-tailed p-value associated with a t-statistic of 2.57 and 68 degrees of freedom. The p-value is approximately 0.012. Since the p-value (0.012) is less than the significance level (0.01), we reject the null hypothesis in favor of the alternative hypothesis. This means that we can conclude that the population means for the two groups are not equal with a significance level of 0.01.__\n",
    "\n",
    "__In other words, we have evidence to support the hypothesis that the two groups of students have different mean scores on the test.__"
   ]
  },
  {
   "cell_type": "markdown",
   "id": "40e1dced",
   "metadata": {},
   "source": [
    "__Q17. A marketing company wants to estimate the average number of ads watched by viewers during a TV\n",
    "program. They take a random sample of 50 viewers and find that the sample mean is 4 with a standard\n",
    "deviation of 1.5. Estimate the population mean with a 99% confidence interval.__"
   ]
  },
  {
   "cell_type": "markdown",
   "id": "ec8d12ab",
   "metadata": {},
   "source": [
    "To estimate the population mean with a 99% confidence interval, we can use the following formula:\n",
    "\n",
    "Confidence Interval = Sample Mean +/- (t_critical * standard_error)\n",
    "\n",
    "where:\n",
    "\n",
    "Sample Mean = 4\n",
    "t_critical = the critical t-value for a 99% confidence level with 49 degrees of freedom (since n-1=49 for a sample size of 50). We can find this value using a t-distribution table or a statistical software. For a two-tailed test with a 99% confidence level and 49 degrees of freedom, the t_critical value is approximately 2.68.\n",
    "Standard Error = standard deviation / sqrt(sample size) = 1.5 / sqrt(50) = 0.21\n",
    "Substituting the values in the formula, we get:\n",
    "\n",
    "Confidence Interval = 4 +/- (2.68 * 0.21) = (3.43, 4.57)\n",
    "\n",
    "__Therefore, we can be 99% confident that the true population mean number of ads watched by viewers during a TV program lies between 3.43 and 4.57.__"
   ]
  },
  {
   "cell_type": "markdown",
   "id": "e7e30853",
   "metadata": {},
   "source": [
    "-------------------------------------------------------------------------------------------- __End__----------------------------------------------------------------------------------------------------------------"
   ]
  }
 ],
 "metadata": {
  "kernelspec": {
   "display_name": "Python 3 (ipykernel)",
   "language": "python",
   "name": "python3"
  },
  "language_info": {
   "codemirror_mode": {
    "name": "ipython",
    "version": 3
   },
   "file_extension": ".py",
   "mimetype": "text/x-python",
   "name": "python",
   "nbconvert_exporter": "python",
   "pygments_lexer": "ipython3",
   "version": "3.9.12"
  },
  "varInspector": {
   "cols": {
    "lenName": 16,
    "lenType": 16,
    "lenVar": 40
   },
   "kernels_config": {
    "python": {
     "delete_cmd_postfix": "",
     "delete_cmd_prefix": "del ",
     "library": "var_list.py",
     "varRefreshCmd": "print(var_dic_list())"
    },
    "r": {
     "delete_cmd_postfix": ") ",
     "delete_cmd_prefix": "rm(",
     "library": "var_list.r",
     "varRefreshCmd": "cat(var_dic_list()) "
    }
   },
   "types_to_exclude": [
    "module",
    "function",
    "builtin_function_or_method",
    "instance",
    "_Feature"
   ],
   "window_display": false
  }
 },
 "nbformat": 4,
 "nbformat_minor": 5
}
